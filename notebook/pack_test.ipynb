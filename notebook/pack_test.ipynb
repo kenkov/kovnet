{
 "cells": [
  {
   "cell_type": "code",
   "execution_count": 1,
   "metadata": {
    "collapsed": true,
    "deletable": true,
    "editable": true
   },
   "outputs": [],
   "source": [
    "import torch\n",
    "import torch.nn as nn"
   ]
  },
  {
   "cell_type": "code",
   "execution_count": 2,
   "metadata": {
    "collapsed": false
   },
   "outputs": [
    {
     "data": {
      "text/plain": [
       "<torch._C.Generator at 0x10f50db50>"
      ]
     },
     "execution_count": 2,
     "metadata": {},
     "output_type": "execute_result"
    }
   ],
   "source": [
    "torch.manual_seed(0)"
   ]
  },
  {
   "cell_type": "code",
   "execution_count": 3,
   "metadata": {
    "collapsed": true,
    "deletable": true,
    "editable": true
   },
   "outputs": [],
   "source": [
    "# create RNN network\n",
    "# - embedding dimension: 4\n",
    "# - hidden dimension: 2\n",
    "# - num layers: 1\n",
    "rnn = nn.RNN(4, 2, 1)"
   ]
  },
  {
   "cell_type": "code",
   "execution_count": 4,
   "metadata": {
    "collapsed": false,
    "deletable": true,
    "editable": true
   },
   "outputs": [
    {
     "name": "stdout",
     "output_type": "stream",
     "text": [
      "tensor([[[ 1.,  1.,  1.,  1.],\n",
      "         [ 1.,  1.,  1.,  1.]],\n",
      "\n",
      "        [[ 2.,  2.,  2.,  2.],\n",
      "         [ 0.,  0.,  0.,  0.]]])\n"
     ]
    }
   ],
   "source": [
    "# test input\n",
    "# - seq len: 2\n",
    "# - batch size: 1\n",
    "# - embedding dimension: 10\n",
    "sample0 = [[1, 1, 1, 1], [2, 2, 2, 2]]  # PADDING なし\n",
    "sample1 = [[1, 1, 1, 1], [0, 0, 0, 0]]  # 二番目の要素が PADDING\n",
    "x_ = torch.tensor([sample0, sample1], dtype=torch.float32)\n",
    "lengths = torch.tensor([2, 1])  # サンプルの要素数。（注意：降順にする）\n",
    "\n",
    "# RNN への入力を作成\n",
    "# dim: (seq length, batch_size, embedding dim)\n",
    "x = x_.transpose(0, 1)\n",
    "\n",
    "print(x)"
   ]
  },
  {
   "cell_type": "code",
   "execution_count": 5,
   "metadata": {
    "collapsed": false,
    "deletable": true,
    "editable": true
   },
   "outputs": [
    {
     "name": "stdout",
     "output_type": "stream",
     "text": [
      "tensor([[[-0.9348,  0.0218],\n",
      "         [-0.9348,  0.0218]],\n",
      "\n",
      "        [[-0.9824,  0.5931],\n",
      "         [-0.7184, -0.2406]]])\n",
      "tensor([[[-0.9824,  0.5931],\n",
      "         [-0.7184, -0.2406]]])\n"
     ]
    }
   ],
   "source": [
    "# パディングを考慮しない場合\n",
    "with torch.no_grad():\n",
    "    y, hidden = rnn(x)\n",
    "    print(y)\n",
    "    print(hidden)\n"
   ]
  },
  {
   "cell_type": "code",
   "execution_count": 6,
   "metadata": {
    "collapsed": false,
    "deletable": true,
    "editable": true
   },
   "outputs": [
    {
     "name": "stdout",
     "output_type": "stream",
     "text": [
      "tensor([[[-0.9348,  0.0218],\n",
      "         [-0.9348,  0.0218]],\n",
      "\n",
      "        [[-0.9824,  0.5931],\n",
      "         [ 0.0000,  0.0000]]])\n",
      "tensor([[[-0.9824,  0.5931],\n",
      "         [-0.9348,  0.0218]]])\n"
     ]
    }
   ],
   "source": [
    "# パディングを考慮する場合\n",
    "# PADDING (zero vector) は無視され RNN を通らない。\n",
    "# それを確認するには、sample1 の最終の hidden state [-0.9348,  0.0218] が、\n",
    "# sample1 の一番目の入力 [1, 1, 1, 1] に対する出力 [-0.9348,  0.0218] と\n",
    "# 一致していることを確かめれば良い\n",
    "packed_x = nn.utils.rnn.pack_padded_sequence(x, lengths)\n",
    "with torch.no_grad():\n",
    "    packed_y, hidden = rnn(packed_x)\n",
    "    out, _ = nn.utils.rnn.pad_packed_sequence(packed_y, total_length=x.shape[0])\n",
    "    print(out)\n",
    "    print(hidden)\n"
   ]
  },
  {
   "cell_type": "code",
   "execution_count": 7,
   "metadata": {
    "collapsed": false,
    "deletable": true,
    "editable": true
   },
   "outputs": [
    {
     "data": {
      "text/plain": [
       "tensor([[-0.9348,  0.0218],\n",
       "        [-0.9824,  0.5931]])"
      ]
     },
     "execution_count": 7,
     "metadata": {},
     "output_type": "execute_result"
    }
   ],
   "source": [
    "# 最終出力を取り出す\n",
    "# 分類問題では、RNN の最終出力に対して分類を実行する必要がある。\n",
    "# その場合は次のように lengths に対応する出力をインデックスで指定すればよい\n",
    "out_idx = [(i, idx.item()-1) for i, idx in enumerate(lengths)]\n",
    "out[out_idx]"
   ]
  },
  {
   "cell_type": "code",
   "execution_count": null,
   "metadata": {
    "collapsed": true
   },
   "outputs": [],
   "source": []
  },
  {
   "cell_type": "code",
   "execution_count": null,
   "metadata": {
    "collapsed": true
   },
   "outputs": [],
   "source": []
  }
 ],
 "metadata": {
  "kernelspec": {
   "display_name": "Python 3",
   "language": "python",
   "name": "python3"
  },
  "language_info": {
   "codemirror_mode": {
    "name": "ipython",
    "version": 3
   },
   "file_extension": ".py",
   "mimetype": "text/x-python",
   "name": "python",
   "nbconvert_exporter": "python",
   "pygments_lexer": "ipython3",
   "version": "3.6.0"
  }
 },
 "nbformat": 4,
 "nbformat_minor": 2
}
