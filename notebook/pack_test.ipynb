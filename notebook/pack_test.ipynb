{
 "cells": [
  {
   "cell_type": "code",
   "execution_count": 1,
   "metadata": {
    "collapsed": true
   },
   "outputs": [],
   "source": [
    "import torch\n",
    "import torch.nn as nn\n",
    "import torch.nn.functional as F\n",
    "import torch.optim as optim"
   ]
  },
  {
   "cell_type": "code",
   "execution_count": 2,
   "metadata": {
    "collapsed": true
   },
   "outputs": [],
   "source": [
    "# create RNN network\n",
    "# - embedding dimension: 10\n",
    "# - hidden dimension: 2\n",
    "# - num layers: 1\n",
    "rnn = nn.RNN(10, 2, 1)"
   ]
  },
  {
   "cell_type": "code",
   "execution_count": 3,
   "metadata": {
    "collapsed": true
   },
   "outputs": [],
   "source": [
    "# test input\n",
    "# - seq len: 2\n",
    "# - batch size: 1\n",
    "# - embedding dimension: 10\n",
    "x = torch.zeros(2, 1, 10)"
   ]
  },
  {
   "cell_type": "code",
   "execution_count": 4,
   "metadata": {
    "collapsed": false
   },
   "outputs": [
    {
     "name": "stdout",
     "output_type": "stream",
     "text": [
      "tensor([[[ 0.9779, -0.7238]]])\n",
      "tensor([[[ 0.8633, -0.7960]],\n",
      "\n",
      "        [[ 0.9779, -0.7238]]])\n"
     ]
    }
   ],
   "source": [
    "# パディングを考慮しない場合\n",
    "# hidden state が二つ目の入力の出力と一致しており、\n",
    "# PADDING を無視していないことがわかる\n",
    "with torch.no_grad():\n",
    "    y, hidden = rnn(x)\n",
    "    print(hidden)\n",
    "    print(y)"
   ]
  },
  {
   "cell_type": "code",
   "execution_count": 5,
   "metadata": {
    "collapsed": false
   },
   "outputs": [
    {
     "name": "stdout",
     "output_type": "stream",
     "text": [
      "tensor([[[ 0.8633, -0.7960]]])\n",
      "tensor([[[ 0.8633, -0.7960]],\n",
      "\n",
      "        [[ 0.0000,  0.0000]]])\n"
     ]
    }
   ],
   "source": [
    "# パディングを考慮する場合\n",
    "# PADDING (zero vector) は無視され RNN を通らない。\n",
    "# それを確認するには、hidden state が一つ目の入力に対する出力と\n",
    "# 一致していることを確認すればよい\n",
    "lengths = torch.tensor([1])  # バッチサイズ\n",
    "packed_x = nn.utils.rnn.pack_padded_sequence(x, lengths)\n",
    "with torch.no_grad():\n",
    "    packed_y, hidden = rnn(packed_x)\n",
    "    out, _ = nn.utils.rnn.pad_packed_sequence(packed_y, total_length=x.shape[0])\n",
    "    print(hidden)\n",
    "    print(out)"
   ]
  },
  {
   "cell_type": "code",
   "execution_count": null,
   "metadata": {
    "collapsed": true
   },
   "outputs": [],
   "source": []
  }
 ],
 "metadata": {
  "kernelspec": {
   "display_name": "Python 3",
   "language": "python",
   "name": "python3"
  },
  "language_info": {
   "codemirror_mode": {
    "name": "ipython",
    "version": 3
   },
   "file_extension": ".py",
   "mimetype": "text/x-python",
   "name": "python",
   "nbconvert_exporter": "python",
   "pygments_lexer": "ipython3",
   "version": "3.6.0"
  }
 },
 "nbformat": 4,
 "nbformat_minor": 2
}
